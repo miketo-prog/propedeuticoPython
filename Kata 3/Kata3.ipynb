{
 "cells": [
  {
   "cell_type": "markdown",
   "metadata": {},
   "source": [
    "## Asteroide\n",
    "\n",
    "<strong>Uso de if, else y elif</strong>"
   ]
  },
  {
   "cell_type": "markdown",
   "metadata": {},
   "source": [
    "Añadir el código necesario para crear una variable que guarde la velocidad del asteroide.<br>\n",
    "Escribe una expresión de prueba para calcular si necesita una advertencia.<br>\n",
    "Agregue las instrucciones que se ejecutarán si la expresión de prueba es true o false."
   ]
  },
  {
   "cell_type": "code",
   "execution_count": 3,
   "metadata": {},
   "outputs": [
    {
     "name": "stdout",
     "output_type": "stream",
     "text": [
      "Peligro! Se acerca un asteroide a 49 km/s\n"
     ]
    }
   ],
   "source": [
    "velLim = 25 #km/s\n",
    "asteroide = 49 #km/s\n",
    "\n",
    "if asteroide>velLim:\n",
    "    print(\"Peligro! Se acerca un asteroide a \"+str(asteroide)+\" km/s\")\n",
    "else:\n",
    "    print(\"Todo bien!\")"
   ]
  },
  {
   "cell_type": "markdown",
   "metadata": {},
   "source": [
    "Agrega el código para crear una variable para un asteroide que viaja a 19 km/s<br>\n",
    "Escribe varias expresiones de prueba para determinar si puedes ver el rayo de luz desde la tierra<br>\n",
    "Agrega las instrucciones que se ejecutarán si las expresiones de prueba son True o False"
   ]
  },
  {
   "cell_type": "code",
   "execution_count": 6,
   "metadata": {},
   "outputs": [
    {
     "name": "stdout",
     "output_type": "stream",
     "text": [
      "Mírame brillar, nene!\n"
     ]
    }
   ],
   "source": [
    "cad = \"Mírame brillar, nene!\"\n",
    "velVisible = 20 #km/s\n",
    "asteroide = 19 #km/s\n",
    "\n",
    "if asteroide<velVisible:\n",
    "    print(\"Lo siento! No te dejaré ver mi luz!\")\n",
    "elif asteroide==20:\n",
    "    print(cad)\n",
    "else:\n",
    "    print(cad)"
   ]
  },
  {
   "cell_type": "markdown",
   "metadata": {},
   "source": [
    "<strong>Uso de and y or</strong>"
   ]
  },
  {
   "cell_type": "markdown",
   "metadata": {},
   "source": [
    "Agrega el código para crear nuevas variables para la velocidad y el tamaño del asteroide<br>\n",
    "Para probar el código, prueba con varias velocidades y tamaños<br>\n",
    "Escribe varias expresiones de prueba o combinaciones de expresiones de prueba para determinar qué mensaje se debe enviar a Tierra."
   ]
  },
  {
   "cell_type": "code",
   "execution_count": 9,
   "metadata": {},
   "outputs": [
    {
     "name": "stdout",
     "output_type": "stream",
     "text": [
      "Brillo como el Sol\n"
     ]
    }
   ],
   "source": [
    "velLim = 25 #km/s\n",
    "velVisible = 20 #km/s\n",
    "tamLimInf = 25 #metros\n",
    "tamLimSup = 1000 #metros\n",
    "\n",
    "tamAsteroide = 23\n",
    "velAsteroide = 24\n",
    "\n",
    "if tamAsteroide>tamLimSup:\n",
    "    print(\"Ya no hay nada que hacer. Solo espere el final\")\n",
    "elif tamAsteroide>tamLimInf:\n",
    "    print(\"Viene peligroso asteroide de tamaño \"+str(tamAsteroide)+\" metros con una buena velocidad, \"+str(velAsteroide)+\" km/s\")\n",
    "elif velAsteroide>velVisible:\n",
    "    print(\"Brillo como el Sol\")\n",
    "else:\n",
    "    print(\"Lo siento! No pagué la luz\")"
   ]
  },
  {
   "cell_type": "code",
   "execution_count": null,
   "metadata": {},
   "outputs": [],
   "source": []
  }
 ],
 "metadata": {
  "interpreter": {
   "hash": "94fc0d37275811cbe6e688c66e0fef0b9ff3fecbf2d4cd0c85756ef45df0da1f"
  },
  "kernelspec": {
   "display_name": "Python 3.10.2 64-bit",
   "language": "python",
   "name": "python3"
  },
  "language_info": {
   "codemirror_mode": {
    "name": "ipython",
    "version": 3
   },
   "file_extension": ".py",
   "mimetype": "text/x-python",
   "name": "python",
   "nbconvert_exporter": "python",
   "pygments_lexer": "ipython3",
   "version": "3.10.2"
  },
  "orig_nbformat": 4
 },
 "nbformat": 4,
 "nbformat_minor": 2
}
