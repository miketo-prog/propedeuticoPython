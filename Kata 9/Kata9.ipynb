{
 "cells": [
  {
   "cell_type": "markdown",
   "metadata": {},
   "source": [
    "# Funciones en Python"
   ]
  },
  {
   "cell_type": "markdown",
   "metadata": {},
   "source": [
    "<strong>Trabajando con argumentos</strong>"
   ]
  },
  {
   "cell_type": "markdown",
   "metadata": {},
   "source": [
    "Función que recibe 3 argumentos y calcula su promedio generando un reporte"
   ]
  },
  {
   "cell_type": "code",
   "execution_count": 5,
   "metadata": {},
   "outputs": [
    {
     "name": "stdout",
     "output_type": "stream",
     "text": [
      "El reporte es el siguiente:\n",
      " \n",
      "    Tanque 1: 15\n",
      "    Tanque 2: 45\n",
      "    Tanque 3: 38\n",
      "    Promedio: 32.666666666666664\n",
      "    \n"
     ]
    }
   ],
   "source": [
    "def reporte(tanque1, tanque2, tanque3):\n",
    "    promedio = (tanque1+tanque2+tanque3)/3\n",
    "    cad = f\"\"\"\n",
    "    Tanque 1: {tanque1}\n",
    "    Tanque 2: {tanque2}\n",
    "    Tanque 3: {tanque3}\n",
    "    Promedio: {promedio}\n",
    "    \"\"\"\n",
    "    return cad\n",
    "\n",
    "print('El reporte es el siguiente:\\n', reporte(15,45,38))"
   ]
  },
  {
   "cell_type": "markdown",
   "metadata": {},
   "source": [
    "Separando la función para promediar"
   ]
  },
  {
   "cell_type": "code",
   "execution_count": 8,
   "metadata": {},
   "outputs": [
    {
     "name": "stdout",
     "output_type": "stream",
     "text": [
      "Promedio: 6.0\n"
     ]
    }
   ],
   "source": [
    "def promediar(cantidades):\n",
    "    promedio = 0\n",
    "    for i in cantidades:\n",
    "        promedio += i\n",
    "    promedio /= len(cantidades)\n",
    "    return promedio\n",
    "\n",
    "##probando la función\n",
    "print(f\"Promedio: {promediar([3,6,9])}\")"
   ]
  },
  {
   "cell_type": "markdown",
   "metadata": {},
   "source": [
    "Actualizando la función que genera el reporte"
   ]
  },
  {
   "cell_type": "code",
   "execution_count": 9,
   "metadata": {},
   "outputs": [
    {
     "name": "stdout",
     "output_type": "stream",
     "text": [
      "El reporte es el siguiente:\n",
      " \n",
      "    Tanque 1: 15\n",
      "    Tanque 2: 45\n",
      "    Tanque 3: 38\n",
      "    Promedio: 32.666666666666664\n",
      "    \n"
     ]
    }
   ],
   "source": [
    "def reporte(tanque1, tanque2, tanque3):\n",
    "    promedio = promediar([tanque1,tanque2,tanque3])\n",
    "    cad = f\"\"\"\n",
    "    Tanque 1: {tanque1}\n",
    "    Tanque 2: {tanque2}\n",
    "    Tanque 3: {tanque3}\n",
    "    Promedio: {promedio}\n",
    "    \"\"\"\n",
    "    return cad\n",
    "\n",
    "print('El reporte es el siguiente:\\n', reporte(15,45,38))"
   ]
  },
  {
   "cell_type": "markdown",
   "metadata": {},
   "source": [
    "<strong>Trabajando con argumentos de palabra clave</strong>"
   ]
  },
  {
   "cell_type": "markdown",
   "metadata": {},
   "source": [
    "Creando una función con varios argumentos"
   ]
  },
  {
   "cell_type": "code",
   "execution_count": 10,
   "metadata": {},
   "outputs": [
    {
     "name": "stdout",
     "output_type": "stream",
     "text": [
      "El reporte es: \n",
      " \n",
      "    Destino del vuelo: Marte\n",
      "    Tiempo total de vuelo: 5010\n",
      "    Combustible disponible: 15000\n",
      "    \n"
     ]
    }
   ],
   "source": [
    "def reportePreciso(prelanzamiento, tiempoVuelo, destino, tanqueInterno, tanqueExterno):\n",
    "    return f\"\"\"\n",
    "    Destino del vuelo: {destino}\n",
    "    Tiempo total de vuelo: {prelanzamiento+tiempoVuelo}\n",
    "    Combustible disponible: {tanqueInterno+tanqueExterno}\n",
    "    \"\"\"\n",
    "\n",
    "print(\"El reporte es: \\n\", reportePreciso(10, 5000, \"Marte\", 6000, 9000))"
   ]
  },
  {
   "cell_type": "markdown",
   "metadata": {},
   "source": [
    "Modificación de la función para recibir cualquier número de argumentos"
   ]
  },
  {
   "cell_type": "code",
   "execution_count": 13,
   "metadata": {},
   "outputs": [
    {
     "name": "stdout",
     "output_type": "stream",
     "text": [
      "El reporte es: \n",
      " \n",
      "    Destino del vuelo: Marte\n",
      "    Tiempo total de vuelo: 5010\n",
      "    Combustible disponible: 15000\n",
      "    \n"
     ]
    }
   ],
   "source": [
    "def reportePreciso(destino, *tiempo, **tanques):\n",
    "    tiempoTotal = sum(tiempo)\n",
    "    ##Es importante considerar el método values() para obtener los valores predefinidos\n",
    "    combustibleTotal = sum(tanques.values())\n",
    "\n",
    "    return f\"\"\"\n",
    "    Destino del vuelo: {destino}\n",
    "    Tiempo total de vuelo: {tiempoTotal}\n",
    "    Combustible disponible: {combustibleTotal}\n",
    "    \"\"\"\n",
    "\n",
    "print(\"El reporte es: \\n\", reportePreciso(\"Marte\", 10, 5000, tanque1=6000, tanque2=9000))"
   ]
  },
  {
   "cell_type": "markdown",
   "metadata": {},
   "source": [
    "Función que especifica el tanque utilizado de combustible"
   ]
  },
  {
   "cell_type": "code",
   "execution_count": 23,
   "metadata": {},
   "outputs": [
    {
     "name": "stdout",
     "output_type": "stream",
     "text": [
      "El reporte es: \n",
      " \n",
      "Destino del vuelo: Marte\n",
      "Tiempo total de vuelo: 5010\n",
      "-------------------------------------\n",
      "El tanque principal tiene: 6000 litros\n",
      "El tanque externo tiene: 9000 litros\n",
      "Combustible total disponible: 15000\n"
     ]
    }
   ],
   "source": [
    "def reportePreciso(destino, *tiempo, **tanques):\n",
    "    tiempoTotal = sum(tiempo)\n",
    "    combustibleTotal = sum(tanques.values())\n",
    "    cad = f\"\"\"\n",
    "Destino del vuelo: {destino}\n",
    "Tiempo total de vuelo: {tiempoTotal}\n",
    "-------------------------------------\n",
    "\"\"\"\n",
    "    for nombre, litros in tanques.items():\n",
    "        cad += f\"El tanque {nombre} tiene: {litros} litros\\n\"\n",
    "\n",
    "    cad += f\"Combustible total disponible: {combustibleTotal}\"\n",
    "    return cad\n",
    "\n",
    "print(\"El reporte es: \\n\", \n",
    "reportePreciso(\"Marte\", 10, 5000, principal=6000, externo=9000))"
   ]
  }
 ],
 "metadata": {
  "interpreter": {
   "hash": "94fc0d37275811cbe6e688c66e0fef0b9ff3fecbf2d4cd0c85756ef45df0da1f"
  },
  "kernelspec": {
   "display_name": "Python 3.10.2 64-bit",
   "language": "python",
   "name": "python3"
  },
  "language_info": {
   "codemirror_mode": {
    "name": "ipython",
    "version": 3
   },
   "file_extension": ".py",
   "mimetype": "text/x-python",
   "name": "python",
   "nbconvert_exporter": "python",
   "pygments_lexer": "ipython3",
   "version": "3.10.2"
  },
  "orig_nbformat": 4
 },
 "nbformat": 4,
 "nbformat_minor": 2
}
