{
 "cells": [
  {
   "cell_type": "markdown",
   "metadata": {},
   "source": [
    "# Uso de diccionarios"
   ]
  },
  {
   "cell_type": "markdown",
   "metadata": {},
   "source": [
    "<strong>Crear y modificar un diccionario en Python</strong>"
   ]
  },
  {
   "cell_type": "code",
   "execution_count": 4,
   "metadata": {},
   "outputs": [],
   "source": [
    "planet = {\n",
    "    'name' : 'Marte',\n",
    "    'moons' : 2\n",
    "}"
   ]
  },
  {
   "cell_type": "markdown",
   "metadata": {},
   "source": [
    "Mostrando contenido del diccionario"
   ]
  },
  {
   "cell_type": "code",
   "execution_count": 11,
   "metadata": {},
   "outputs": [
    {
     "name": "stdout",
     "output_type": "stream",
     "text": [
      "El planeta Marte tiene 2 lunas\n"
     ]
    }
   ],
   "source": [
    "#Nota: Al llamar la clave en el print, debe estar entre comillas dobles\n",
    "print(f'El planeta {planet[\"name\"]} tiene {planet[\"moons\"]} lunas')"
   ]
  },
  {
   "cell_type": "markdown",
   "metadata": {},
   "source": [
    "Agregando un diccionario al diccionario existente"
   ]
  },
  {
   "cell_type": "code",
   "execution_count": 18,
   "metadata": {},
   "outputs": [],
   "source": [
    "planet['circunferencia'] = {\n",
    "    'polar' : 6752,\n",
    "    'ecuatorial' : 6792\n",
    "}"
   ]
  },
  {
   "cell_type": "markdown",
   "metadata": {},
   "source": [
    "Mostrando el contenido del nuevo diccionario interno"
   ]
  },
  {
   "cell_type": "code",
   "execution_count": 22,
   "metadata": {},
   "outputs": [
    {
     "name": "stdout",
     "output_type": "stream",
     "text": [
      "El planeta Marte \n",
      "tiene una circunferencia polar de 6752\n",
      "y una circunferencia ecuatorial de 6792\n"
     ]
    }
   ],
   "source": [
    "print(f'''El planeta {planet[\"name\"]} \n",
    "tiene una circunferencia polar de {planet[\"circunferencia\"][\"polar\"]}\n",
    "y una circunferencia ecuatorial de {planet[\"circunferencia\"][\"ecuatorial\"]}''')"
   ]
  },
  {
   "cell_type": "markdown",
   "metadata": {},
   "source": [
    "<strong>Programación dinámica con diccionarios</strong>"
   ]
  },
  {
   "cell_type": "code",
   "execution_count": 28,
   "metadata": {},
   "outputs": [
    {
     "name": "stdout",
     "output_type": "stream",
     "text": [
      "Cantidad de planetas: 12\n",
      "Cantidad de lunas: 214\n"
     ]
    }
   ],
   "source": [
    "planet_moons = {\n",
    "    'mercury': 0,\n",
    "    'venus': 0,\n",
    "    'earth': 1,\n",
    "    'mars': 2,\n",
    "    'jupiter': 79,\n",
    "    'saturn': 82,\n",
    "    'uranus': 27,\n",
    "    'neptune': 14,\n",
    "    'pluto': 5,\n",
    "    'haumea': 2,\n",
    "    'makemake': 1,\n",
    "    'eris': 1\n",
    "}\n",
    "\n",
    "planets = len(planet_moons)\n",
    "moons = 0\n",
    "for cant in planet_moons.values():\n",
    "    moons += cant\n",
    "\n",
    "print(f'Cantidad de planetas: {planets}\\nCantidad de lunas: {moons}')"
   ]
  },
  {
   "cell_type": "markdown",
   "metadata": {},
   "source": [
    "Obteniedo el promedio de lunas"
   ]
  },
  {
   "cell_type": "code",
   "execution_count": 29,
   "metadata": {},
   "outputs": [
    {
     "name": "stdout",
     "output_type": "stream",
     "text": [
      "El promedio de lunas es: 17.833333333333332\n"
     ]
    }
   ],
   "source": [
    "print(f'El promedio de lunas es: {moons/planets}')"
   ]
  }
 ],
 "metadata": {
  "interpreter": {
   "hash": "94fc0d37275811cbe6e688c66e0fef0b9ff3fecbf2d4cd0c85756ef45df0da1f"
  },
  "kernelspec": {
   "display_name": "Python 3.10.2 64-bit",
   "language": "python",
   "name": "python3"
  },
  "language_info": {
   "codemirror_mode": {
    "name": "ipython",
    "version": 3
   },
   "file_extension": ".py",
   "mimetype": "text/x-python",
   "name": "python",
   "nbconvert_exporter": "python",
   "pygments_lexer": "ipython3",
   "version": "3.10.2"
  },
  "orig_nbformat": 4
 },
 "nbformat": 4,
 "nbformat_minor": 2
}
