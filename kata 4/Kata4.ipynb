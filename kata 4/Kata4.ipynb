{
 "cells": [
  {
   "cell_type": "markdown",
   "metadata": {},
   "source": [
    "# MANEJO DE CADENAS"
   ]
  },
  {
   "cell_type": "markdown",
   "metadata": {},
   "source": [
    "# Transformar cadenas"
   ]
  },
  {
   "cell_type": "markdown",
   "metadata": {},
   "source": [
    "Dividir cadena de texto en oraciones"
   ]
  },
  {
   "cell_type": "code",
   "execution_count": 19,
   "metadata": {},
   "outputs": [
    {
     "name": "stdout",
     "output_type": "stream",
     "text": [
      "\"Comprobando oraciones\"\n",
      "Interesting facts about the Moon\n",
      "The Moon is Earth's only satellite\n",
      "There are several interesting facts about the Moon and how it affects life here on Earth\n",
      "\n",
      "On average, the Moon moves 4cm away from the Earth every year\n",
      "This yearly drift is not significant enough to cause immediate effects on Earth\n",
      "The highest daylight temperature of the Moon is 127 C.\n"
     ]
    }
   ],
   "source": [
    "text = \"\"\"Interesting facts about the Moon. The Moon is Earth's only satellite. There are several interesting facts about the Moon and how it affects life here on Earth. \n",
    "On average, the Moon moves 4cm away from the Earth every year. This yearly drift is not significant enough to cause immediate effects on Earth. The highest daylight temperature of the Moon is 127 C.\"\"\"\n",
    "oraciones = text.split('. ')\n",
    "print('\"Comprobando oraciones\"')\n",
    "for oracion in oraciones:\n",
    "    print(oracion)"
   ]
  },
  {
   "cell_type": "markdown",
   "metadata": {},
   "source": [
    "Definir palabras clave"
   ]
  },
  {
   "cell_type": "code",
   "execution_count": 20,
   "metadata": {},
   "outputs": [
    {
     "name": "stdout",
     "output_type": "stream",
     "text": [
      "\"Mirando las palabras clave\"\n",
      "average\n",
      "temperature\n",
      "distance\n"
     ]
    }
   ],
   "source": [
    "palabrasClave = [\"average\", \"temperature\", \"distance\"]\n",
    "\n",
    "print('\"Mirando las palabras clave\"')\n",
    "for palabra in palabrasClave:\n",
    "    print(palabra)"
   ]
  },
  {
   "cell_type": "markdown",
   "metadata": {},
   "source": [
    "Bucle para mostrar solo datos de la Luna relacionados con las palabras clave"
   ]
  },
  {
   "cell_type": "code",
   "execution_count": 23,
   "metadata": {},
   "outputs": [
    {
     "name": "stdout",
     "output_type": "stream",
     "text": [
      "\n",
      "On average, the Moon moves 4cm away from the Earth every year\n",
      "The highest daylight temperature of the Moon is 127 C.\n"
     ]
    }
   ],
   "source": [
    "#recorremos cada oración\n",
    "for oracion in oraciones:\n",
    "    #recorremos las palabras que guardamos\n",
    "    for palabra in palabrasClave:\n",
    "        #si la palabra está en la oración\n",
    "        if palabra in oracion:\n",
    "            #Imprime la oración\n",
    "            print(oracion)\n",
    "            break\n",
    "    "
   ]
  },
  {
   "cell_type": "markdown",
   "metadata": {},
   "source": [
    "Cambiar C a Celsius"
   ]
  },
  {
   "cell_type": "code",
   "execution_count": 24,
   "metadata": {},
   "outputs": [
    {
     "name": "stdout",
     "output_type": "stream",
     "text": [
      "\n",
      "On average, the Moon moves 4cm away from the Earth every year\n",
      "The highest daylight temperature of the Moon is 127 Celsius.\n"
     ]
    }
   ],
   "source": [
    "#recorremos cada oración\n",
    "for oracion in oraciones:\n",
    "    #recorremos las palabras que guardamos\n",
    "    for palabra in palabrasClave:\n",
    "        #si la palabra está en la oración\n",
    "        if palabra in oracion:\n",
    "            #reemplaza la C por la palabra Celsius\n",
    "            print(oracion.replace('C', 'Celsius'))"
   ]
  },
  {
   "cell_type": "markdown",
   "metadata": {},
   "source": [
    "# Formateando cadenas"
   ]
  },
  {
   "cell_type": "markdown",
   "metadata": {},
   "source": [
    "Define los datos"
   ]
  },
  {
   "cell_type": "code",
   "execution_count": 34,
   "metadata": {},
   "outputs": [],
   "source": [
    "# Datos con los que vas a trabajar\n",
    "name = \"La Luna\"\n",
    "gravity = 0.00162 # in kms\n",
    "planet = \"La Tierra\""
   ]
  },
  {
   "cell_type": "markdown",
   "metadata": {},
   "source": [
    "Crear un título"
   ]
  },
  {
   "cell_type": "code",
   "execution_count": 35,
   "metadata": {},
   "outputs": [
    {
     "name": "stdout",
     "output_type": "stream",
     "text": [
      "Información de la gravedad en La Luna\n"
     ]
    }
   ],
   "source": [
    "title = f\"Información de la gravedad en {name}\"\n",
    "print(title)"
   ]
  },
  {
   "cell_type": "markdown",
   "metadata": {},
   "source": [
    "Crear la plantilla"
   ]
  },
  {
   "cell_type": "code",
   "execution_count": 36,
   "metadata": {},
   "outputs": [
    {
     "name": "stdout",
     "output_type": "stream",
     "text": [
      "----------------------------------------\n",
      "Nombre del planeta: La Tierra\n",
      "Gravedad en La Luna: 1.6199999999999999 m/s\n"
     ]
    }
   ],
   "source": [
    "facts = f\"\"\"{'-'*40}\n",
    "Nombre del planeta: {planet}\n",
    "Gravedad en {name}: {gravity*1000} m/s\"\"\"\n",
    "\n",
    "print(facts)"
   ]
  },
  {
   "cell_type": "markdown",
   "metadata": {},
   "source": [
    "Unión de cadenas"
   ]
  },
  {
   "cell_type": "code",
   "execution_count": 38,
   "metadata": {},
   "outputs": [
    {
     "name": "stdout",
     "output_type": "stream",
     "text": [
      "Información De La Gravedad En La Luna\n",
      "----------------------------------------\n",
      "Nombre del planeta: La Tierra\n",
      "Gravedad en La Luna: 1.6199999999999999 m/s\n",
      "\n"
     ]
    }
   ],
   "source": [
    "plantilla = f\"\"\"{title.title()}\n",
    "{facts}\n",
    "\"\"\"\n",
    "print(plantilla)"
   ]
  },
  {
   "cell_type": "markdown",
   "metadata": {},
   "source": [
    "Nuevos datos"
   ]
  },
  {
   "cell_type": "code",
   "execution_count": 45,
   "metadata": {},
   "outputs": [],
   "source": [
    "name = \"Marte\"\n",
    "gravity = 0.00143 # in kms\n",
    "planet = \"Ganímedes\""
   ]
  },
  {
   "cell_type": "markdown",
   "metadata": {},
   "source": [
    "Comprobar plantilla"
   ]
  },
  {
   "cell_type": "code",
   "execution_count": 46,
   "metadata": {},
   "outputs": [
    {
     "name": "stdout",
     "output_type": "stream",
     "text": [
      "Información De La Gravedad En La Luna\n",
      "----------------------------------------\n",
      "Nombre del planeta: La Tierra\n",
      "Gravedad en La Luna: 1.6199999999999999 m/s\n",
      "\n"
     ]
    }
   ],
   "source": [
    "print(plantilla)"
   ]
  },
  {
   "cell_type": "markdown",
   "metadata": {},
   "source": [
    "Nueva plantilla"
   ]
  },
  {
   "cell_type": "code",
   "execution_count": 60,
   "metadata": {},
   "outputs": [
    {
     "name": "stdout",
     "output_type": "stream",
     "text": [
      "\n",
      "Datos de Gravedad sobre: Marte\n",
      "--------------------------------------\n",
      "Nombre del planeta: Ganímedes\n",
      "Gravedad en Marte: 0.00143 m/s2\n",
      "\n"
     ]
    }
   ],
   "source": [
    "nuevaPlantilla = \"\"\"\n",
    "Datos de Gravedad sobre: {name}\n",
    "--------------------------------------\n",
    "Nombre del planeta: {planet}\n",
    "Gravedad en {name}: {gravity} m/s2\n",
    "\"\"\"\n",
    "print(nuevaPlantilla.format(name=name, planet=planet, gravity=gravity))"
   ]
  },
  {
   "cell_type": "markdown",
   "metadata": {},
   "source": [
    "Imprimir plantilla<br>\n",
    "<i>Pista: print(nueva_plantilla.format(variables))</i>"
   ]
  },
  {
   "cell_type": "code",
   "execution_count": 61,
   "metadata": {},
   "outputs": [
    {
     "name": "stdout",
     "output_type": "stream",
     "text": [
      "\n",
      "Datos de Gravedad sobre: Marte\n",
      "--------------------------------------\n",
      "Nombre del planeta: Ganímedes\n",
      "Gravedad en Marte: 1.4300000000000002 m/s2\n",
      "\n"
     ]
    }
   ],
   "source": [
    "print(nuevaPlantilla.format(name=name, planet=planet, gravity=gravity*1000))"
   ]
  }
 ],
 "metadata": {
  "interpreter": {
   "hash": "94fc0d37275811cbe6e688c66e0fef0b9ff3fecbf2d4cd0c85756ef45df0da1f"
  },
  "kernelspec": {
   "display_name": "Python 3.10.2 64-bit",
   "language": "python",
   "name": "python3"
  },
  "language_info": {
   "codemirror_mode": {
    "name": "ipython",
    "version": 3
   },
   "file_extension": ".py",
   "mimetype": "text/x-python",
   "name": "python",
   "nbconvert_exporter": "python",
   "pygments_lexer": "ipython3",
   "version": "3.10.2"
  },
  "orig_nbformat": 4
 },
 "nbformat": 4,
 "nbformat_minor": 2
}
